{
 "cells": [
  {
   "cell_type": "markdown",
   "metadata": {},
   "source": [
    "### Text Preprocessing"
   ]
  },
  {
   "cell_type": "code",
   "execution_count": 1,
   "metadata": {},
   "outputs": [
    {
     "name": "stdout",
     "output_type": "stream",
     "text": [
      "   points                                              title  \\\n",
      "0      87                  Nicosia 2013 Vulkà Bianco  (Etna)   \n",
      "1      87      Quinta dos Avidagos 2011 Avidagos Red (Douro)   \n",
      "2      87      Rainstorm 2013 Pinot Gris (Willamette Valley)   \n",
      "3      87  St. Julian 2013 Reserve Late Harvest Riesling ...   \n",
      "4      87  Sweet Cheeks 2012 Vintner's Reserve Wild Child...   \n",
      "\n",
      "                                         description         taster_name  \\\n",
      "0  Aromas include tropical fruit, broom, brimston...       Kerin O’Keefe   \n",
      "1  This is ripe and fruity, a wine that is smooth...          Roger Voss   \n",
      "2  Tart and snappy, the flavors of lime flesh and...        Paul Gregutt   \n",
      "3  Pineapple rind, lemon pith and orange blossom ...  Alexander Peartree   \n",
      "4  Much like the regular bottling from 2012, this...        Paul Gregutt   \n",
      "\n",
      "  taster_twitter_handle  price                         designation  \\\n",
      "0          @kerinokeefe    NaN                        Vulkà Bianco   \n",
      "1            @vossroger   15.0                            Avidagos   \n",
      "2           @paulgwine    14.0                                None   \n",
      "3                  None   13.0                Reserve Late Harvest   \n",
      "4           @paulgwine    65.0  Vintner's Reserve Wild Child Block   \n",
      "\n",
      "          variety             region_1           region_2           province  \\\n",
      "0     White Blend                 Etna               None  Sicily & Sardinia   \n",
      "1  Portuguese Red                 None               None              Douro   \n",
      "2      Pinot Gris    Willamette Valley  Willamette Valley             Oregon   \n",
      "3        Riesling  Lake Michigan Shore               None           Michigan   \n",
      "4      Pinot Noir    Willamette Valley  Willamette Valley             Oregon   \n",
      "\n",
      "    country               winery  \n",
      "0     Italy              Nicosia  \n",
      "1  Portugal  Quinta dos Avidagos  \n",
      "2        US            Rainstorm  \n",
      "3        US           St. Julian  \n",
      "4        US         Sweet Cheeks  \n"
     ]
    }
   ],
   "source": [
    "#load datas\n",
    "import pandas as pd\n",
    "#df = pd.read_csv('data/winemag-data_first150k.csv')\n",
    "#df = pd.read_csv('data/winemag-data-130k-v2.csv')\n",
    "df = pd.read_json('data/winemag-data-130k-v2.json')\n",
    "print(df.head())"
   ]
  },
  {
   "cell_type": "code",
   "execution_count": 2,
   "metadata": {},
   "outputs": [
    {
     "name": "stdout",
     "output_type": "stream",
     "text": [
      "(129971, 13)\n"
     ]
    }
   ],
   "source": [
    "print(df.shape)"
   ]
  },
  {
   "cell_type": "code",
   "execution_count": 3,
   "metadata": {},
   "outputs": [],
   "source": [
    "corpus = df['description']"
   ]
  },
  {
   "cell_type": "code",
   "execution_count": 4,
   "metadata": {},
   "outputs": [],
   "source": [
    "#delete stopwords\n",
    "from nltk.corpus import stopwords\n",
    "import string\n",
    "\n",
    "stop_words = set(stopwords.words('english'))\n",
    "punctuations = list(string.punctuation)\n",
    "stop_words.update(punctuations)\n"
   ]
  },
  {
   "cell_type": "code",
   "execution_count": 5,
   "metadata": {},
   "outputs": [],
   "source": [
    "def clean_text(text):\n",
    "    # Convertir el texto a minúsculas\n",
    "    text = text.lower()\n",
    "    # Eliminar signos de puntuación\n",
    "    text = text.translate(str.maketrans('', '', string.punctuation))\n",
    "    # Eliminar stopwords\n",
    "    text = ' '.join(word for word in text.split() if word not in stop_words)\n",
    "    return text"
   ]
  },
  {
   "cell_type": "code",
   "execution_count": 28,
   "metadata": {},
   "outputs": [
    {
     "name": "stdout",
     "output_type": "stream",
     "text": [
      "0    aromas include tropical fruit broom brimstone ...\n",
      "1    ripe fruity wine smooth still structured firm ...\n",
      "2    tart snappy flavors lime flesh rind dominate g...\n",
      "3    pineapple rind lemon pith orange blossom start...\n",
      "4    much like regular bottling 2012 comes across r...\n",
      "5    blackberry raspberry aromas show typical navar...\n",
      "6    heres bright informal red opens aromas candied...\n",
      "7    dry restrained wine offers spice profusion bal...\n",
      "8    savory dried thyme notes accent sunnier flavor...\n",
      "9    great depth flavor fresh apple pear fruits tou...\n",
      "Name: cleaned_description, dtype: object\n"
     ]
    }
   ],
   "source": [
    "df['cleaned_description'] = corpus.apply(clean_text)\n",
    "print(df['cleaned_description'])"
   ]
  },
  {
   "cell_type": "code",
   "execution_count": 29,
   "metadata": {},
   "outputs": [
    {
     "data": {
      "text/plain": [
       "10"
      ]
     },
     "execution_count": 29,
     "metadata": {},
     "output_type": "execute_result"
    }
   ],
   "source": [
    "textos = df['cleaned_description'].tolist()\n",
    "len(textos)"
   ]
  },
  {
   "cell_type": "markdown",
   "metadata": {},
   "source": [
    "### Bert"
   ]
  },
  {
   "cell_type": "code",
   "execution_count": 7,
   "metadata": {},
   "outputs": [
    {
     "name": "stderr",
     "output_type": "stream",
     "text": [
      "c:\\Users\\usuario\\Fer-Pc\\Escritorio\\EPN\\2024-A\\SEPTIMO_SEMESTRE\\RECUPERACION_DE_INFORMACION\\ir24a\\venv3.8\\lib\\site-packages\\tqdm\\auto.py:21: TqdmWarning: IProgress not found. Please update jupyter and ipywidgets. See https://ipywidgets.readthedocs.io/en/stable/user_install.html\n",
      "  from .autonotebook import tqdm as notebook_tqdm\n",
      "Some weights of the PyTorch model were not used when initializing the TF 2.0 model TFBertModel: ['cls.predictions.transform.dense.bias', 'cls.predictions.transform.LayerNorm.bias', 'cls.predictions.transform.LayerNorm.weight', 'cls.predictions.bias', 'cls.predictions.transform.dense.weight', 'cls.seq_relationship.weight', 'cls.seq_relationship.bias']\n",
      "- This IS expected if you are initializing TFBertModel from a PyTorch model trained on another task or with another architecture (e.g. initializing a TFBertForSequenceClassification model from a BertForPreTraining model).\n",
      "- This IS NOT expected if you are initializing TFBertModel from a PyTorch model that you expect to be exactly identical (e.g. initializing a TFBertForSequenceClassification model from a BertForSequenceClassification model).\n",
      "All the weights of TFBertModel were initialized from the PyTorch model.\n",
      "If your task is similar to the task the model of the checkpoint was trained on, you can already use TFBertModel for predictions without further training.\n"
     ]
    }
   ],
   "source": [
    "from transformers import BertTokenizer, TFBertModel\n",
    "\n",
    "# Load pre-trained BERT model and tokenizer\n",
    "tokenizer = BertTokenizer.from_pretrained('bert-base-uncased')\n",
    "bert_model = TFBertModel.from_pretrained('bert-base-uncased')"
   ]
  },
  {
   "cell_type": "code",
   "execution_count": 11,
   "metadata": {},
   "outputs": [],
   "source": [
    "import numpy as np \n",
    "\n",
    "def generate_bert_embeddings(texts):\n",
    "    embeddings = []\n",
    "    for text in texts:\n",
    "        inputs = tokenizer(text, return_tensors='tf', padding=True, truncation=True)\n",
    "        outputs = bert_model(**inputs)\n",
    "        embeddings.append(outputs.last_hidden_state[:, 0, :])  # Use [CLS] token representation\n",
    "    return np.array(embeddings).transpose(0,2,1)\n",
    "\n",
    "corpus_bert = generate_bert_embeddings(df['cleaned_description'][:10])"
   ]
  },
  {
   "cell_type": "code",
   "execution_count": 12,
   "metadata": {},
   "outputs": [
    {
     "data": {
      "text/plain": [
       "(10, 768, 1)"
      ]
     },
     "execution_count": 12,
     "metadata": {},
     "output_type": "execute_result"
    }
   ],
   "source": [
    "corpus_bert.shape"
   ]
  },
  {
   "cell_type": "markdown",
   "metadata": {},
   "source": [
    "Step 7: Generate Embeddings for the Query\n",
    "\n",
    "Generate embeddings for the query using the same model used for the documents."
   ]
  },
  {
   "cell_type": "code",
   "execution_count": 13,
   "metadata": {},
   "outputs": [],
   "source": [
    "query = ['two words']\n",
    "query_bert = generate_bert_embeddings(query)\n",
    "#query_bert.shape"
   ]
  },
  {
   "cell_type": "code",
   "execution_count": 14,
   "metadata": {},
   "outputs": [
    {
     "data": {
      "text/html": [
       "<div>\n",
       "<style scoped>\n",
       "    .dataframe tbody tr th:only-of-type {\n",
       "        vertical-align: middle;\n",
       "    }\n",
       "\n",
       "    .dataframe tbody tr th {\n",
       "        vertical-align: top;\n",
       "    }\n",
       "\n",
       "    .dataframe thead th {\n",
       "        text-align: right;\n",
       "    }\n",
       "</style>\n",
       "<table border=\"1\" class=\"dataframe\">\n",
       "  <thead>\n",
       "    <tr style=\"text-align: right;\">\n",
       "      <th></th>\n",
       "      <th>sim</th>\n",
       "      <th>Wine</th>\n",
       "    </tr>\n",
       "  </thead>\n",
       "  <tbody>\n",
       "    <tr>\n",
       "      <th>0</th>\n",
       "      <td>0.755257</td>\n",
       "      <td>Nicosia 2013 Vulkà Bianco  (Etna)</td>\n",
       "    </tr>\n",
       "    <tr>\n",
       "      <th>1</th>\n",
       "      <td>0.772960</td>\n",
       "      <td>Quinta dos Avidagos 2011 Avidagos Red (Douro)</td>\n",
       "    </tr>\n",
       "    <tr>\n",
       "      <th>2</th>\n",
       "      <td>0.735794</td>\n",
       "      <td>Rainstorm 2013 Pinot Gris (Willamette Valley)</td>\n",
       "    </tr>\n",
       "    <tr>\n",
       "      <th>3</th>\n",
       "      <td>0.777312</td>\n",
       "      <td>St. Julian 2013 Reserve Late Harvest Riesling ...</td>\n",
       "    </tr>\n",
       "    <tr>\n",
       "      <th>4</th>\n",
       "      <td>0.809283</td>\n",
       "      <td>Sweet Cheeks 2012 Vintner's Reserve Wild Child...</td>\n",
       "    </tr>\n",
       "    <tr>\n",
       "      <th>5</th>\n",
       "      <td>0.815357</td>\n",
       "      <td>Tandem 2011 Ars In Vitro Tempranillo-Merlot (N...</td>\n",
       "    </tr>\n",
       "    <tr>\n",
       "      <th>6</th>\n",
       "      <td>0.800680</td>\n",
       "      <td>Terre di Giurfo 2013 Belsito Frappato (Vittoria)</td>\n",
       "    </tr>\n",
       "    <tr>\n",
       "      <th>7</th>\n",
       "      <td>0.824024</td>\n",
       "      <td>Trimbach 2012 Gewurztraminer (Alsace)</td>\n",
       "    </tr>\n",
       "    <tr>\n",
       "      <th>8</th>\n",
       "      <td>0.847462</td>\n",
       "      <td>Heinz Eifel 2013 Shine Gewürztraminer (Rheinhe...</td>\n",
       "    </tr>\n",
       "    <tr>\n",
       "      <th>9</th>\n",
       "      <td>0.766631</td>\n",
       "      <td>Jean-Baptiste Adam 2012 Les Natures Pinot Gris...</td>\n",
       "    </tr>\n",
       "  </tbody>\n",
       "</table>\n",
       "</div>"
      ],
      "text/plain": [
       "        sim                                               Wine\n",
       "0  0.755257                  Nicosia 2013 Vulkà Bianco  (Etna)\n",
       "1  0.772960      Quinta dos Avidagos 2011 Avidagos Red (Douro)\n",
       "2  0.735794      Rainstorm 2013 Pinot Gris (Willamette Valley)\n",
       "3  0.777312  St. Julian 2013 Reserve Late Harvest Riesling ...\n",
       "4  0.809283  Sweet Cheeks 2012 Vintner's Reserve Wild Child...\n",
       "5  0.815357  Tandem 2011 Ars In Vitro Tempranillo-Merlot (N...\n",
       "6  0.800680   Terre di Giurfo 2013 Belsito Frappato (Vittoria)\n",
       "7  0.824024              Trimbach 2012 Gewurztraminer (Alsace)\n",
       "8  0.847462  Heinz Eifel 2013 Shine Gewürztraminer (Rheinhe...\n",
       "9  0.766631  Jean-Baptiste Adam 2012 Les Natures Pinot Gris..."
      ]
     },
     "execution_count": 14,
     "metadata": {},
     "output_type": "execute_result"
    }
   ],
   "source": [
    "from sklearn.metrics.pairwise import cosine_similarity\n",
    "# Calcular la similitud coseno entre la consulta y los embeddings del corpus\n",
    "cos_similarities = cosine_similarity(query_bert.reshape(1,768), corpus_bert.reshape(10,768))\n",
    "cos_similarities_df = pd.DataFrame(cos_similarities.T, columns=['sim'])\n",
    "# Agregar la columna 'designation' del DataFrame original\n",
    "cos_similarities_df['Wine'] = df['title']\n",
    "# Mostrar el DataFrame resultante\n",
    "cos_similarities_df"
   ]
  },
  {
   "cell_type": "code",
   "execution_count": 15,
   "metadata": {},
   "outputs": [],
   "source": [
    "def systemRI(query):\n",
    "    query_bert = generate_bert_embeddings(query)\n",
    "    cos_similarities = cosine_similarity(query_bert.reshape(1,768), corpus_bert.reshape(10,768))\n",
    "    cos_similarities_df = pd.DataFrame(cos_similarities.T, columns=['sim'])\n",
    "    # Agregar la columna 'designation' del DataFrame original\n",
    "    cos_similarities_df['Wine'] = df['title']\n",
    "    # Mostrar el DataFrame resultante\n",
    "    return cos_similarities_df"
   ]
  },
  {
   "cell_type": "code",
   "execution_count": 16,
   "metadata": {},
   "outputs": [
    {
     "data": {
      "text/html": [
       "<div>\n",
       "<style scoped>\n",
       "    .dataframe tbody tr th:only-of-type {\n",
       "        vertical-align: middle;\n",
       "    }\n",
       "\n",
       "    .dataframe tbody tr th {\n",
       "        vertical-align: top;\n",
       "    }\n",
       "\n",
       "    .dataframe thead th {\n",
       "        text-align: right;\n",
       "    }\n",
       "</style>\n",
       "<table border=\"1\" class=\"dataframe\">\n",
       "  <thead>\n",
       "    <tr style=\"text-align: right;\">\n",
       "      <th></th>\n",
       "      <th>sim</th>\n",
       "      <th>Wine</th>\n",
       "    </tr>\n",
       "  </thead>\n",
       "  <tbody>\n",
       "    <tr>\n",
       "      <th>0</th>\n",
       "      <td>0.773238</td>\n",
       "      <td>Nicosia 2013 Vulkà Bianco  (Etna)</td>\n",
       "    </tr>\n",
       "    <tr>\n",
       "      <th>1</th>\n",
       "      <td>0.786750</td>\n",
       "      <td>Quinta dos Avidagos 2011 Avidagos Red (Douro)</td>\n",
       "    </tr>\n",
       "    <tr>\n",
       "      <th>2</th>\n",
       "      <td>0.776004</td>\n",
       "      <td>Rainstorm 2013 Pinot Gris (Willamette Valley)</td>\n",
       "    </tr>\n",
       "    <tr>\n",
       "      <th>3</th>\n",
       "      <td>0.812660</td>\n",
       "      <td>St. Julian 2013 Reserve Late Harvest Riesling ...</td>\n",
       "    </tr>\n",
       "    <tr>\n",
       "      <th>4</th>\n",
       "      <td>0.827445</td>\n",
       "      <td>Sweet Cheeks 2012 Vintner's Reserve Wild Child...</td>\n",
       "    </tr>\n",
       "    <tr>\n",
       "      <th>5</th>\n",
       "      <td>0.853319</td>\n",
       "      <td>Tandem 2011 Ars In Vitro Tempranillo-Merlot (N...</td>\n",
       "    </tr>\n",
       "    <tr>\n",
       "      <th>6</th>\n",
       "      <td>0.832088</td>\n",
       "      <td>Terre di Giurfo 2013 Belsito Frappato (Vittoria)</td>\n",
       "    </tr>\n",
       "    <tr>\n",
       "      <th>7</th>\n",
       "      <td>0.837732</td>\n",
       "      <td>Trimbach 2012 Gewurztraminer (Alsace)</td>\n",
       "    </tr>\n",
       "    <tr>\n",
       "      <th>8</th>\n",
       "      <td>0.866765</td>\n",
       "      <td>Heinz Eifel 2013 Shine Gewürztraminer (Rheinhe...</td>\n",
       "    </tr>\n",
       "    <tr>\n",
       "      <th>9</th>\n",
       "      <td>0.782025</td>\n",
       "      <td>Jean-Baptiste Adam 2012 Les Natures Pinot Gris...</td>\n",
       "    </tr>\n",
       "  </tbody>\n",
       "</table>\n",
       "</div>"
      ],
      "text/plain": [
       "        sim                                               Wine\n",
       "0  0.773238                  Nicosia 2013 Vulkà Bianco  (Etna)\n",
       "1  0.786750      Quinta dos Avidagos 2011 Avidagos Red (Douro)\n",
       "2  0.776004      Rainstorm 2013 Pinot Gris (Willamette Valley)\n",
       "3  0.812660  St. Julian 2013 Reserve Late Harvest Riesling ...\n",
       "4  0.827445  Sweet Cheeks 2012 Vintner's Reserve Wild Child...\n",
       "5  0.853319  Tandem 2011 Ars In Vitro Tempranillo-Merlot (N...\n",
       "6  0.832088   Terre di Giurfo 2013 Belsito Frappato (Vittoria)\n",
       "7  0.837732              Trimbach 2012 Gewurztraminer (Alsace)\n",
       "8  0.866765  Heinz Eifel 2013 Shine Gewürztraminer (Rheinhe...\n",
       "9  0.782025  Jean-Baptiste Adam 2012 Les Natures Pinot Gris..."
      ]
     },
     "execution_count": 16,
     "metadata": {},
     "output_type": "execute_result"
    }
   ],
   "source": [
    "df = systemRI(['guerrerin cabra'])\n",
    "df"
   ]
  },
  {
   "cell_type": "markdown",
   "metadata": {},
   "source": [
    "# Computacion Paralela"
   ]
  },
  {
   "cell_type": "code",
   "execution_count": 17,
   "metadata": {},
   "outputs": [],
   "source": [
    "# Función para dividir el corpus en fragmentos\n",
    "def chunks(lst, n):\n",
    "    for i in range(0, len(lst), n):\n",
    "        yield lst[i:i + n]"
   ]
  },
  {
   "cell_type": "code",
   "execution_count": 19,
   "metadata": {},
   "outputs": [],
   "source": [
    "# Función para generar embeddings paralelo BERT\n",
    "def generate_bert_embeddings(texts):\n",
    "    embeddings = []\n",
    "    for text in texts:\n",
    "        inputs = tokenizer(text, return_tensors='tf', padding=True, truncation=True)\n",
    "        outputs = bert_model(**inputs)\n",
    "        embeddings.append(outputs.last_hidden_state[:, 0, :].numpy())  # Use [CLS] token representation\n",
    "    return embeddings"
   ]
  },
  {
   "cell_type": "code",
   "execution_count": 30,
   "metadata": {},
   "outputs": [],
   "source": [
    "#Definir el número de fragmentos y de procesos paralelos\n",
    "num_chunks = 4  # Ajusta según tu hardware\n",
    "chunk_size = len(textos) // num_chunks\n",
    "text_chunks = list(chunks(textos, chunk_size))"
   ]
  },
  {
   "cell_type": "code",
   "execution_count": 32,
   "metadata": {},
   "outputs": [],
   "source": [
    "from multiprocessing import Pool\n",
    "# Generar embeddings en paralelo\n",
    "with Pool(num_chunks) as pool:\n",
    "    result = pool.map(generate_bert_embeddings, text_chunks)\n"
   ]
  },
  {
   "cell_type": "code",
   "execution_count": null,
   "metadata": {},
   "outputs": [],
   "source": [
    "# Combinar los resultados\n",
    "corpus_bert_paralelo = np.vstack(result)\n",
    "corpus_bert_paralelo = np.array(corpus_bert).transpose(0, 2, 1)"
   ]
  }
 ],
 "metadata": {
  "kernelspec": {
   "display_name": "venv3.8",
   "language": "python",
   "name": "python3"
  },
  "language_info": {
   "codemirror_mode": {
    "name": "ipython",
    "version": 3
   },
   "file_extension": ".py",
   "mimetype": "text/x-python",
   "name": "python",
   "nbconvert_exporter": "python",
   "pygments_lexer": "ipython3",
   "version": "3.8.10"
  }
 },
 "nbformat": 4,
 "nbformat_minor": 2
}
