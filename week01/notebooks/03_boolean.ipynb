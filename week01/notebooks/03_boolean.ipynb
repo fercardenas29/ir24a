{
 "cells": [
  {
   "cell_type": "markdown",
   "id": "3678b6ceab34c216",
   "metadata": {
    "collapsed": false
   },
   "source": [
    "# Boolean Search in Documents\n",
    "\n",
    "## Objective\n",
    "Expand the simple term search functionality to include Boolean search capabilities. This will allow users to perform more complex queries by combining multiple search terms using Boolean operators.\n",
    "\n",
    "## Problem Description\n",
    "You must enhance the existing search engine from the previous exercise to support Boolean operators: AND, OR, and NOT. This will enable the retrieval of documents based on the logical relationships between multiple terms.\n",
    "\n",
    "## Requirements\n",
    "\n",
    "### Step 1: Update Data Preparation\n",
    "Ensure that the documents are still loaded and preprocessed from the previous task. The data should be clean and ready for advanced querying.\n",
    "\n",
    "### Step 2: Create an Inverted Index\n",
    "\n",
    "Create an inverted index from the documents. This index maps each word to the set of document IDs in which that word appears. This facilitates word lookup in the search process.\n",
    "\n",
    "### Step 3: Implementing Boolean Search\n",
    "- **Enhance Input Query**: Modify the function to accept complex queries that can include the Boolean operators AND, OR, and NOT.\n",
    "- **Implement Boolean Logic**:\n",
    "  - **AND**: The document must contain all the terms. For example, `python AND programming` should return documents containing both \"python\" and \"programming\".\n",
    "  - **OR**: The document can contain any of the terms. For example, `python OR programming` should return documents containing either \"python\", \"programming\", or both.\n",
    "  - **NOT**: The document must not contain the term following NOT. For example, `python NOT snake` should return documents that contain \"python\" but not \"snake\".\n",
    "\n",
    "### Step 4: Query Processing\n",
    "- **Parse the Query**: Implement a function to parse the input query to identify the terms and operators.\n",
    "- **Search Documents**: Based on the parsed query, implement the logic to retrieve and rank the documents according to the Boolean expressions.\n",
    "- **Handling Case Sensitivity and Partial Matches**: Optionally, you can handle cases and partial matches to refine the search results.\n",
    "\n",
    "### Step 5: Displaying Results\n",
    "- **Output the Results**: Display the documents that match the query criteria. Include functionalities to handle queries that result in no matching documents.\n",
    "\n",
    "## Evaluation Criteria\n",
    "- **Correctness**: The Boolean search implementation should correctly interpret and process the queries according to the Boolean logic.\n",
    "- **Efficiency**: Consider the efficiency of your search process, especially as the complexity of queries increases.\n",
    "- **User Experience**: Ensure that the interface for inputting queries and viewing results is user-friendly.\n",
    "\n",
    "## Additional Challenges (Optional)\n",
    "- **Nested Boolean Queries**: Allow for nested queries using parentheses, such as `(python OR java) AND programming`.\n",
    "- **Phrase Searching**: Implement the ability to search for exact phrases enclosed in quotes.\n",
    "- **Proximity Searching**: Extend the search to find terms that are within a specific distance from one another.\n",
    "\n",
    "This exercise will deepen your understanding of how search engines process and respond to complex user queries. By incorporating Boolean search, you not only enhance the functionality of your search engine but also mimic more closely how real-world information retrieval systems operate.\n"
   ]
  },
  {
   "cell_type": "code",
   "execution_count": 10,
   "id": "eb33dcf6",
   "metadata": {},
   "outputs": [],
   "source": [
    "# Importing libraries\n",
    "import os\n",
    "import pandas as pd\n",
    "from nltk.tokenize import word_tokenize"
   ]
  },
  {
   "cell_type": "code",
   "execution_count": 11,
   "id": "70f411c5",
   "metadata": {},
   "outputs": [],
   "source": [
    "folder_path = 'C:/Users/usuario/Fer-Pc/Escritorio/EPN/2024-A/SEPTIMO_SEMESTRE/RECUPERACION_DE_INFORMACION/ir24a/week01/data'"
   ]
  },
  {
   "cell_type": "code",
   "execution_count": 12,
   "id": "1a14e322",
   "metadata": {},
   "outputs": [],
   "source": [
    "def load_documents(folder_path):\n",
    "    documents = {}\n",
    "    for filename in os.listdir(folder_path):\n",
    "            path = os.path.join(folder_path, filename)\n",
    "            with open(path, 'r', encoding='utf-8') as file:\n",
    "                content = file.read()\n",
    "                documents[filename] = content\n",
    "    return documents"
   ]
  },
  {
   "cell_type": "code",
   "execution_count": 13,
   "id": "9051105a",
   "metadata": {},
   "outputs": [],
   "source": [
    "documents = load_documents(folder_path)"
   ]
  },
  {
   "cell_type": "code",
   "execution_count": 14,
   "id": "537db227",
   "metadata": {},
   "outputs": [],
   "source": [
    "def inverted_index(documents):\n",
    "    index = {}\n",
    "    for filename, content in documents.items():\n",
    "        tokens = word_tokenize(content)\n",
    "        for token in set(tokens):  # set for unique tokens \n",
    "            if token in index:\n",
    "                if filename not in index[token]:\n",
    "                    index[token].append(filename)\n",
    "            else:\n",
    "                index[token] = [filename]\n",
    "    return index"
   ]
  },
  {
   "cell_type": "code",
   "execution_count": 15,
   "id": "2a75e6db",
   "metadata": {},
   "outputs": [],
   "source": [
    "def query_boolean (index, query):\n",
    "    query_tokens = word_tokenize(query)\n",
    "    result = set()\n",
    "    relevant_documents = set(index[query_tokens[0]])\n",
    "    for i, token in enumerate(query_tokens):\n",
    "        if token.lower() == 'and':\n",
    "            # AND\n",
    "            next_token = query_tokens[i + 1]\n",
    "            if next_token in index:\n",
    "                relevant_documents = relevant_documents.intersection(set(index[next_token]))\n",
    "        elif token.lower() == 'or':\n",
    "            # OR\n",
    "            next_token = query_tokens[i + 1]\n",
    "            if next_token in index:\n",
    "                relevant_documents = relevant_documents.union(set(index[next_token]))\n",
    "        elif token.lower() == 'not':\n",
    "            # NOT\n",
    "            next_token = query_tokens[i + 1]\n",
    "            if next_token in index:\n",
    "                relevant_documents = relevant_documents.difference(set(index[next_token]))\n",
    "        else:\n",
    "            # normal search\n",
    "            if token in index:\n",
    "                result.update(index[token])\n",
    "\n",
    "        result = result.intersection(relevant_documents)\n",
    "    return result"
   ]
  },
  {
   "cell_type": "code",
   "execution_count": 16,
   "id": "52c57a83",
   "metadata": {},
   "outputs": [
    {
     "name": "stdout",
     "output_type": "stream",
     "text": [
      "Documents containing the word 'machine OR learning AND NOT deep':\n",
      "The Kama Sutra of Vatsyayana.txt\n",
      "The Philippines a Century Hence.txt\n",
      "A Doll's House.txt\n",
      "Second Treatise of Government.txt\n",
      "A Modest Proposal.txt\n"
     ]
    }
   ],
   "source": [
    "index = inverted_index(documents) \n",
    "query = \"machine OR learning AND NOT deep\"\n",
    "result = query_boolean(index, query)\n",
    "print(\"Documents containing the word '{}':\".format(query))\n",
    "for documento in result:\n",
    "    print(documento)"
   ]
  }
 ],
 "metadata": {
  "kernelspec": {
   "display_name": "Python 3",
   "language": "python",
   "name": "python3"
  },
  "language_info": {
   "codemirror_mode": {
    "name": "ipython",
    "version": 3
   },
   "file_extension": ".py",
   "mimetype": "text/x-python",
   "name": "python",
   "nbconvert_exporter": "python",
   "pygments_lexer": "ipython3",
   "version": "3.12.2"
  }
 },
 "nbformat": 4,
 "nbformat_minor": 5
}
