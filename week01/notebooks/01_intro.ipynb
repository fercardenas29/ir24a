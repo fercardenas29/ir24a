{
 "cells": [
  {
   "cell_type": "markdown",
   "id": "87a197ffb621d407",
   "metadata": {
    "collapsed": false
   },
   "source": [
    "# Term Search in Documents\n",
    "\n",
    "## Objective\n",
    "The goal of this exercise is to develop a simple information retrieval system that allows the user to search for a specific term across a set of text documents. This will introduce you to the basics of text processing and searching algorithms in the context of information retrieval.\n",
    "\n",
    "## Problem Description\n",
    "You are provided with a set of text documents. Your task is to implement a search function that:\n",
    "- Takes a user-inputted term as the query.\n",
    "- Searches for this term across all the provided documents.\n",
    "- Returns a list of documents where the term appears.\n",
    "\n",
    "## Requirements\n",
    "\n",
    "### Step 1: Preparing the Data\n",
    "- **Load the Documents**: You will start by loading the text documents into your program. These documents can be in plain text format stored in a directory.\n",
    "- **Read Each Document**: Implement a function to read each document and store its contents in a data structure of your choice (e.g., a list).\n",
    "\n",
    "### Step 2: Implementing the Search\n",
    "- **Input Query**: Implement a function to accept a query term from the user.\n",
    "- **Search Function**: Create a function that:\n",
    "  - Iterates through each document.\n",
    "  - Checks if the query term appears in the document.\n",
    "  - You may choose to implement case-insensitive search to improve user experience.\n",
    "- **Return Results**: The function should return the names or identifiers of the documents where the term is found.\n",
    "\n",
    "### Step 3: Displaying Results\n",
    "- **Output the Results**: For each search query, output the results in a user-friendly format, listing the documents where the term was found, or a message indicating that the term does not appear in any document.\n",
    "\n",
    "## Evaluation Criteria\n",
    "- **Correctness**: The search function should accurately identify documents containing the term.\n",
    "- **Efficiency**: While efficiency may not be critical for small datasets, consider the efficiency of your search algorithm.\n",
    "- **Usability**: The interface for inputting search terms and viewing results should be clear and easy to use.\n",
    "\n",
    "## Additional Challenges (Optional)\n",
    "- **Enhance the search functionality**: Allow for more complex queries, such as phrases or multiple terms.\n",
    "- **Improve the search with regular expressions**: Use regex for pattern matching to enhance the flexibility of the search.\n",
    "- **Implement a simple ranking system**: Rank the documents based on the frequency of the term within each document.\n",
    "\n",
    "This exercise will help you understand the fundamental mechanisms behind storing and retrieving data in the field of information retrieval. By the end of this task, you will have a basic prototype that mimics core functions of larger, more complex search engines.\n"
   ]
  },
  {
   "cell_type": "markdown",
   "id": "dd749ead",
   "metadata": {},
   "source": [
    "## Development\n",
    "- Fernando Cardenas"
   ]
  },
  {
   "cell_type": "code",
   "execution_count": 39,
   "id": "initial_id",
   "metadata": {
    "collapsed": true
   },
   "outputs": [],
   "source": [
    "import os"
   ]
  },
  {
   "cell_type": "code",
   "execution_count": 40,
   "id": "9ea83d30",
   "metadata": {},
   "outputs": [],
   "source": [
    "# PATH LOCAL\n",
    "directory = r'C:\\Users\\usuario\\Fer-Pc\\Escritorio\\EPN\\2024-A\\SEPTIMO_SEMESTRE\\RECUPERACION_DE_INFORMACION\\ir24a\\week01\\data'"
   ]
  },
  {
   "cell_type": "code",
   "execution_count": 41,
   "id": "7c3fa056",
   "metadata": {},
   "outputs": [],
   "source": [
    "def load_documents(directory):\n",
    "    documents = []\n",
    "    for filename in os.listdir(directory):\n",
    "        if filename.endswith('.txt'):\n",
    "            path = os.path.join(directory, filename)\n",
    "            with open(path, 'r', encoding='utf-8') as file:\n",
    "                content = file.read()\n",
    "                documents.append((filename, content))\n",
    "    return documents"
   ]
  },
  {
   "cell_type": "code",
   "execution_count": 42,
   "id": "5d728615",
   "metadata": {},
   "outputs": [
    {
     "name": "stdout",
     "output_type": "stream",
     "text": [
      "Loaded 98 documents.\n"
     ]
    }
   ],
   "source": [
    "# Load the documents from the directory\n",
    "documents = load_documents(directory)\n",
    "# Show the number of loaded documents\n",
    "print(\"Loaded {} documents.\".format(len(documents)))"
   ]
  },
  {
   "cell_type": "code",
   "execution_count": 43,
   "id": "763ea40e",
   "metadata": {},
   "outputs": [],
   "source": [
    "def search_in_documents(documents, term):\n",
    "    results = []\n",
    "    for name, content in documents:\n",
    "        if term.lower() in content.lower():\n",
    "            results.append(name)\n",
    "    return results"
   ]
  },
  {
   "cell_type": "code",
   "execution_count": 44,
   "id": "a3fd65dd",
   "metadata": {},
   "outputs": [
    {
     "name": "stdout",
     "output_type": "stream",
     "text": [
      "The term 'hello' was found in the following documents:\n",
      "- Adventures of Huckleberry Finn.txt\n",
      "- Biographical Anecdotes of William Hogarth, With a Catalogue of His Works.txt\n",
      "- Dubliners.txt\n",
      "- Fan Fare May 1953.txt\n",
      "- History of Tom Jones, a Foundling.txt\n",
      "- Kentucky in American Letters.txt\n",
      "- My Life ÔÇö Volume 1.txt\n",
      "- Roget's Thesaurus of English Words and Phrases.txt\n",
      "- Standard Selections.txt\n",
      "- The Adventures of Tom Sawyer.txt\n",
      "- The Brothers Karamazov.txt\n",
      "- The Complete Works of William Shakespeare.txt\n",
      "- The Count of Monte Cristo.txt\n",
      "- The Great Gatsby.txt\n",
      "- The Metamorphoses of Ovid.txt\n",
      "- The Reign of Greed.txt\n",
      "- The Souls of Black Folk.txt\n",
      "- The Wonderful Wizard of Oz.txt\n",
      "- Ulysses.txt\n"
     ]
    }
   ],
   "source": [
    "# Get the search term from the user\n",
    "search_term = \"hello\"\n",
    "\n",
    "# Perform the search in the loaded documents\n",
    "search_results = search_in_documents(documents, search_term)\n",
    "\n",
    "# Show the search results\n",
    "if search_results:\n",
    "    print(\"The term '{}' was found in the following documents:\".format(search_term))\n",
    "    for result in search_results:\n",
    "        print(\"- {}\".format(result))"
   ]
  }
 ],
 "metadata": {
  "kernelspec": {
   "display_name": "Python 3",
   "language": "python",
   "name": "python3"
  },
  "language_info": {
   "codemirror_mode": {
    "name": "ipython",
    "version": 3
   },
   "file_extension": ".py",
   "mimetype": "text/x-python",
   "name": "python",
   "nbconvert_exporter": "python",
   "pygments_lexer": "ipython3",
   "version": "3.12.2"
  }
 },
 "nbformat": 4,
 "nbformat_minor": 5
}
