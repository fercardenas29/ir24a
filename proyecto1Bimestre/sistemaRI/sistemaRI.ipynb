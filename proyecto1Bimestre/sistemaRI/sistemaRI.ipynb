{
 "cells": [
  {
   "cell_type": "markdown",
   "metadata": {},
   "source": [
    "# Sistema de Recuperacion de Informacion"
   ]
  },
  {
   "cell_type": "code",
   "execution_count": 1,
   "metadata": {},
   "outputs": [],
   "source": [
    "import pickle\n",
    "import pandas as pd\n",
    "from sklearn.feature_extraction.text import CountVectorizer, TfidfVectorizer\n",
    "from sklearn.metrics import jaccard_score\n",
    "from sklearn.metrics.pairwise import cosine_similarity\n",
    "from tabulate import tabulate"
   ]
  },
  {
   "cell_type": "code",
   "execution_count": 2,
   "metadata": {},
   "outputs": [],
   "source": [
    "#Función para cargar los datos precomputados\n",
    "def load_precomputed_data(file_path):\n",
    "    with open(file_path, 'rb') as file:\n",
    "        data = pickle.load(file)\n",
    "    return data"
   ]
  },
  {
   "cell_type": "code",
   "execution_count": 3,
   "metadata": {},
   "outputs": [],
   "source": [
    "# Ruta del archivo de datos precomputados\n",
    "precomputed_data_path = r'C:\\Users\\usuario\\Fer-Pc\\Escritorio\\EPN\\2024-A\\SEPTIMO_SEMESTRE\\RECUPERACION_DE_INFORMACION\\ir24a\\proyecto1Bimestre\\data\\preprocessd_data.pkl'"
   ]
  },
  {
   "cell_type": "code",
   "execution_count": 4,
   "metadata": {},
   "outputs": [],
   "source": [
    "# Cargar los datos precomputados\n",
    "precomputed_data = load_precomputed_data(precomputed_data_path)\n",
    "filenames = precomputed_data['filenames']\n",
    "processed_docs = precomputed_data['processed_docs']\n",
    "bow_vectors = precomputed_data['bow_vectors']\n",
    "tfidf_vectors = precomputed_data['tfidf_vectors']\n",
    "bow_vectorizer = precomputed_data['bow_vectorizer']\n",
    "tfidf_vectorizer = precomputed_data['tfidf_vectorizer']"
   ]
  },
  {
   "cell_type": "code",
   "execution_count": 5,
   "metadata": {},
   "outputs": [],
   "source": [
    "# Función para vectorizar una consulta\n",
    "def vectorize_query(query, bow_vectorizer, tfidf_vectorizer):\n",
    "    bow_query_vector = bow_vectorizer.transform([query])\n",
    "    tfidf_query_vector = tfidf_vectorizer.transform([query])\n",
    "    return bow_query_vector, tfidf_query_vector"
   ]
  },
  {
   "cell_type": "code",
   "execution_count": 6,
   "metadata": {},
   "outputs": [],
   "source": [
    "#Función para buscar documentos\n",
    "def sistema_RI(bow_query_vector, bow_vectors, tfidf_query_vector, tfidf_vectors):\n",
    "    bow_query_array = bow_query_vector.toarray()[0]\n",
    "    bow_vectors_array = bow_vectors.toarray()\n",
    "    jaccard_similarities = [\n",
    "        jaccard_score(bow_query_array, bow_vector, average='binary') for bow_vector in bow_vectors_array\n",
    "    ]\n",
    "    cosine_similarities = cosine_similarity(tfidf_query_vector, tfidf_vectors).flatten()\n",
    "    return jaccard_similarities, cosine_similarities"
   ]
  },
  {
   "cell_type": "code",
   "execution_count": 7,
   "metadata": {},
   "outputs": [],
   "source": [
    "# Probar la búsqueda\n",
    "query = \"earn\"\n",
    "bow_query_vector, tfidf_query_vector = vectorize_query(query, bow_vectorizer, tfidf_vectorizer)\n",
    "jaccard_similarities, cosine_similarities = sistema_RI(bow_query_vector, bow_vectors, tfidf_query_vector, tfidf_vectors)"
   ]
  },
  {
   "cell_type": "code",
   "execution_count": 8,
   "metadata": {},
   "outputs": [],
   "source": [
    "# Crear el DataFrame de resultados\n",
    "results_df = pd.DataFrame({\n",
    "    'id': filenames,\n",
    "    'Jaccard_Similarity': jaccard_similarities,\n",
    "    'Cosine_Similarity': cosine_similarities\n",
    "})"
   ]
  },
  {
   "cell_type": "code",
   "execution_count": 9,
   "metadata": {},
   "outputs": [
    {
     "name": "stdout",
     "output_type": "stream",
     "text": [
      "+----+-----------+----------------------+---------------------+\n",
      "|    | id        |   Jaccard_Similarity |   Cosine_Similarity |\n",
      "+====+===========+======================+=====================+\n",
      "|  0 | 1.txt     |            0         |            0        |\n",
      "+----+-----------+----------------------+---------------------+\n",
      "|  1 | 10.txt    |            0         |            0        |\n",
      "+----+-----------+----------------------+---------------------+\n",
      "|  2 | 100.txt   |            0         |            0        |\n",
      "+----+-----------+----------------------+---------------------+\n",
      "|  3 | 1000.txt  |            0         |            0        |\n",
      "+----+-----------+----------------------+---------------------+\n",
      "|  4 | 10000.txt |            0.0285714 |            0.167332 |\n",
      "+----+-----------+----------------------+---------------------+\n",
      "|  5 | 10002.txt |            0         |            0        |\n",
      "+----+-----------+----------------------+---------------------+\n",
      "|  6 | 10005.txt |            0         |            0        |\n",
      "+----+-----------+----------------------+---------------------+\n",
      "|  7 | 10008.txt |            0         |            0        |\n",
      "+----+-----------+----------------------+---------------------+\n",
      "|  8 | 10011.txt |            0         |            0        |\n",
      "+----+-----------+----------------------+---------------------+\n",
      "|  9 | 10014.txt |            0         |            0        |\n",
      "+----+-----------+----------------------+---------------------+\n"
     ]
    }
   ],
   "source": [
    "# Mostrar los primeros 10 resultados\n",
    "limited_results_df = results_df.head(10)\n",
    "print(tabulate(limited_results_df, headers='keys', tablefmt='grid'))"
   ]
  }
 ],
 "metadata": {
  "kernelspec": {
   "display_name": "Python 3",
   "language": "python",
   "name": "python3"
  },
  "language_info": {
   "codemirror_mode": {
    "name": "ipython",
    "version": 3
   },
   "file_extension": ".py",
   "mimetype": "text/x-python",
   "name": "python",
   "nbconvert_exporter": "python",
   "pygments_lexer": "ipython3",
   "version": "3.12.2"
  }
 },
 "nbformat": 4,
 "nbformat_minor": 2
}
